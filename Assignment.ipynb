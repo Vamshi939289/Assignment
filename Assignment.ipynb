{
  "nbformat": 4,
  "nbformat_minor": 0,
  "metadata": {
    "colab": {
      "provenance": []
    },
    "kernelspec": {
      "name": "python3",
      "display_name": "Python 3"
    },
    "language_info": {
      "name": "python"
    }
  },
  "cells": [
    {
      "cell_type": "code",
      "execution_count": 1,
      "metadata": {
        "colab": {
          "base_uri": "https://localhost:8080/"
        },
        "id": "7N7KQtLGtQ_1",
        "outputId": "093cc5c9-8dc6-4173-b9d6-b43124ada7f9"
      },
      "outputs": [
        {
          "output_type": "stream",
          "name": "stdout",
          "text": [
            "Enter your username: vamsh\n",
            "Enter your password: vam123\n",
            "Invalid password. Password must be at least 8 characters long.\n",
            "Enter your username: vamshi'\n",
            "Enter your password: vamshi8686\n",
            "Login successful\n"
          ]
        }
      ],
      "source": [
        "def val():\n",
        "    username = input(\"Enter your username: \")\n",
        "    password = input(\"Enter your password: \")\n",
        "    return username, password\n",
        "\n",
        "validate_username = lambda u: len(u) >= 5\n",
        "validate_password = lambda p: len(p) >= 8\n",
        "\n",
        "while True:\n",
        "    username, password = val()\n",
        "\n",
        "    if not validate_username(username):\n",
        "        print(\"Invalid username. Username must be at least 5 characters long.\")\n",
        "        continue\n",
        "\n",
        "    if not validate_password(password):\n",
        "        print(\"Invalid password. Password must be at least 8 characters long.\")\n",
        "        continue\n",
        "\n",
        "    print(\"Login successful\")\n",
        "    break\n"
      ]
    },
    {
      "cell_type": "code",
      "source": [],
      "metadata": {
        "id": "nd5BH2oTtTgD"
      },
      "execution_count": null,
      "outputs": []
    }
  ]
}